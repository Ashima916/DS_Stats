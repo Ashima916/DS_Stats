{
 "cells": [
  {
   "cell_type": "code",
   "execution_count": 4,
   "id": "20b6cafe-c282-4911-b4e7-b4242388e8a8",
   "metadata": {},
   "outputs": [
    {
     "name": "stdout",
     "output_type": "stream",
     "text": [
      "Mean: 67.0\n",
      "Median: 66.0\n",
      "Mode: 0    45\n",
      "1    56\n",
      "2    66\n",
      "3    78\n",
      "4    90\n",
      "Name: marks, dtype: int64\n",
      "Variance: 279.1111111111111\n",
      "Standard Deviation: 16.706618781522224\n"
     ]
    }
   ],
   "source": [
    "import pandas as pd\n",
    "rt=pd.read_csv(r\"C:\\Users\\Student\\Desktop\\python ds&ml\\marks.csv\")\n",
    "Mean=rt[\"marks\"].mean()\n",
    "print(f\"Mean: {Mean}\")\n",
    "Median=rt[\"marks\"].median()\n",
    "print(f\"Median: {Median}\")\n",
    "Mode=rt[\"marks\"].mode()\n",
    "print(f\"Mode: {Mode}\")\n",
    "Variance=rt[\"marks\"].var()\n",
    "print(f\"Variance: {Variance}\")\n",
    "SD=rt[\"marks\"].std()\n",
    "print(f\"Standard Deviation: {SD}\")"
   ]
  },
  {
   "cell_type": "code",
   "execution_count": null,
   "id": "f4287721-b70a-435f-98c3-d6f58071e261",
   "metadata": {},
   "outputs": [],
   "source": []
  },
  {
   "cell_type": "code",
   "execution_count": null,
   "id": "71b70465-9b96-47b0-8ac8-8bed06e070fb",
   "metadata": {},
   "outputs": [],
   "source": []
  }
 ],
 "metadata": {
  "kernelspec": {
   "display_name": "Python 3 (ipykernel)",
   "language": "python",
   "name": "python3"
  },
  "language_info": {
   "codemirror_mode": {
    "name": "ipython",
    "version": 3
   },
   "file_extension": ".py",
   "mimetype": "text/x-python",
   "name": "python",
   "nbconvert_exporter": "python",
   "pygments_lexer": "ipython3",
   "version": "3.12.4"
  }
 },
 "nbformat": 4,
 "nbformat_minor": 5
}
